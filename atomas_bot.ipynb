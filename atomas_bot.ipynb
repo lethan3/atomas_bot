{
 "cells": [
  {
   "cell_type": "code",
   "execution_count": null,
   "id": "f532379e",
   "metadata": {},
   "outputs": [],
   "source": [
    "import seaborn as sns\n",
    "\n",
    "from field import Field\n",
    "from game import Game\n",
    "\n",
    "moves_survived = []\n",
    "for _ in range(100):\n",
    "    game = Game(False, False)\n",
    "    game.play()\n",
    "    print()\n",
    "    print(len(game.spawned_atoms), game.field.atoms)\n",
    "    moves_survived.append(len(game.spawned_atoms))\n",
    "moves_survived.sort()\n",
    "print(moves_survived)\n",
    "sns.histplot(moves_survived)"
   ]
  },
  {
   "cell_type": "code",
   "execution_count": 4,
   "id": "21f212ce",
   "metadata": {},
   "outputs": [
    {
     "name": "stdout",
     "output_type": "stream",
     "text": [
      "Mean: 1047.8 StdDev: 431.4930358650067\n"
     ]
    }
   ],
   "source": [
    "import math\n",
    "\n",
    "scores = [50, 134, 157, 167, 226, 238, 284, 327, 393, 415, 501, 513, 516, 529, 544, 555, 584, 592, 602, 630, 683, 730, 731, 741, 769, 785, 787, 815, 842, 852, 854, 859, 869, 875, 881, 882, 900, 922, 962, 982, 1000, 1001, 1020, 1026, 1048, 1069, 1090, 1091, 1092, 1095, 1100, 1100, 1139, 1142, 1145, 1159, 1164, 1175, 1208, 1211, 1217, 1228, 1231, 1242, 1244, 1256, 1259, 1270, 1270, 1282, 1293, 1297, 1298, 1307, 1308, 1311, 1313, 1339, 1374, 1380, 1385, 1398, 1398, 1419, 1430, 1461, 1463, 1482, 1494, 1534, 1563, 1609, 1660, 1781, 1797, 1835, 1840, 1889, 1916, 1954]\n",
    "print('Mean:', sum(scores)/len(scores), 'StdDev:', math.sqrt(sum((a - sum(scores)/len(scores))**2 for a in scores)/len(scores)))"
   ]
  }
 ],
 "metadata": {
  "kernelspec": {
   "display_name": "Python 3 (ipykernel)",
   "language": "python",
   "name": "python3"
  }
 },
 "nbformat": 4,
 "nbformat_minor": 5
}
