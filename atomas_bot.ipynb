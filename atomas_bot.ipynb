{
 "cells": [
  {
   "cell_type": "code",
   "execution_count": 17,
   "id": "f532379e",
   "metadata": {},
   "outputs": [
    {
     "name": "stdout",
     "output_type": "stream",
     "text": [
      ".."
     ]
    },
    {
     "name": "stdout",
     "output_type": "stream",
     "text": [
      ".......\n",
      "173 [-1, -1, -1, -1, 3, -1, 5, -1, -1, 4, -1, -1, -1, 7, -1, 8, -1, 6, 2]\n",
      ".............................\n",
      "568 [-1, 4, -1, 7, 19, 19, 11, -1, 13, 19, 14, 17, 16, 16, 17, 20, 18, 15, 8]\n",
      ".................."
     ]
    }
   ],
   "source": [
    "import seaborn as sns\n",
    "\n",
    "from bot import Bot\n",
    "from field import Field\n",
    "from game import Game\n",
    "\n",
    "bot = Bot()\n",
    "moves_survived = []\n",
    "for _ in range(100):\n",
    "    game = Game(False, bot)\n",
    "    game.play()\n",
    "    print()\n",
    "    print(len(game.spawned_atoms), game.field.atoms)\n",
    "    moves_survived.append(len(game.spawned_atoms))\n",
    "\n",
    "sns.histplot(moves_survived)"
   ]
  },
  {
   "cell_type": "code",
   "execution_count": 16,
   "id": "21f212ce",
   "metadata": {},
   "outputs": [
    {
     "name": "stdout",
     "output_type": "stream",
     "text": [
      "[-1, -1, -1, -2, -1] 1000000000.0\n"
     ]
    },
    {
     "ename": "IndexError",
     "evalue": "only integers, slices (`:`), ellipsis (`...`), numpy.newaxis (`None`) and integer or boolean arrays are valid indices",
     "output_type": "error",
     "traceback": [
      "\u001b[1;31m---------------------------------------------------------------------------\u001b[0m",
      "\u001b[1;31mIndexError\u001b[0m                                Traceback (most recent call last)",
      "\u001b[1;32md:\\Documents\\atomas_bot\\atomas_bot.ipynb Cell 2\u001b[0m in \u001b[0;36m<cell line: 63>\u001b[1;34m()\u001b[0m\n\u001b[0;32m     <a href='vscode-notebook-cell:/d%3A/Documents/atomas_bot/atomas_bot.ipynb#W1sZmlsZQ%3D%3D?line=58'>59</a>\u001b[0m             y\u001b[39m.\u001b[39mappend(output_vector)\n\u001b[0;32m     <a href='vscode-notebook-cell:/d%3A/Documents/atomas_bot/atomas_bot.ipynb#W1sZmlsZQ%3D%3D?line=59'>60</a>\u001b[0m         \u001b[39m# except:\u001b[39;00m\n\u001b[0;32m     <a href='vscode-notebook-cell:/d%3A/Documents/atomas_bot/atomas_bot.ipynb#W1sZmlsZQ%3D%3D?line=60'>61</a>\u001b[0m         \u001b[39m#     break\u001b[39;00m\n\u001b[1;32m---> <a href='vscode-notebook-cell:/d%3A/Documents/atomas_bot/atomas_bot.ipynb#W1sZmlsZQ%3D%3D?line=62'>63</a>\u001b[0m read_data()\n\u001b[0;32m     <a href='vscode-notebook-cell:/d%3A/Documents/atomas_bot/atomas_bot.ipynb#W1sZmlsZQ%3D%3D?line=63'>64</a>\u001b[0m \u001b[39mprint\u001b[39m(\u001b[39mlen\u001b[39m(x))\n",
      "\u001b[1;32md:\\Documents\\atomas_bot\\atomas_bot.ipynb Cell 2\u001b[0m in \u001b[0;36mread_data\u001b[1;34m()\u001b[0m\n\u001b[0;32m     <a href='vscode-notebook-cell:/d%3A/Documents/atomas_bot/atomas_bot.ipynb#W1sZmlsZQ%3D%3D?line=54'>55</a>\u001b[0m decision \u001b[39m=\u001b[39m \u001b[39mint\u001b[39m(fin\u001b[39m.\u001b[39mreadline())\n\u001b[0;32m     <a href='vscode-notebook-cell:/d%3A/Documents/atomas_bot/atomas_bot.ipynb#W1sZmlsZQ%3D%3D?line=55'>56</a>\u001b[0m fin\u001b[39m.\u001b[39mreadline()\n\u001b[1;32m---> <a href='vscode-notebook-cell:/d%3A/Documents/atomas_bot/atomas_bot.ipynb#W1sZmlsZQ%3D%3D?line=56'>57</a>\u001b[0m input_vector, output_vector \u001b[39m=\u001b[39m preprocess_data(field, plus, minus, \u001b[39mnext\u001b[39;49m, op, decision)\n\u001b[0;32m     <a href='vscode-notebook-cell:/d%3A/Documents/atomas_bot/atomas_bot.ipynb#W1sZmlsZQ%3D%3D?line=57'>58</a>\u001b[0m x\u001b[39m.\u001b[39mappend(input_vector)\n\u001b[0;32m     <a href='vscode-notebook-cell:/d%3A/Documents/atomas_bot/atomas_bot.ipynb#W1sZmlsZQ%3D%3D?line=58'>59</a>\u001b[0m y\u001b[39m.\u001b[39mappend(output_vector)\n",
      "\u001b[1;32md:\\Documents\\atomas_bot\\atomas_bot.ipynb Cell 2\u001b[0m in \u001b[0;36mpreprocess_data\u001b[1;34m(field, plus, minus, next, op, decision)\u001b[0m\n\u001b[0;32m     <a href='vscode-notebook-cell:/d%3A/Documents/atomas_bot/atomas_bot.ipynb#W1sZmlsZQ%3D%3D?line=25'>26</a>\u001b[0m         \u001b[39mif\u001b[39;00m (min_element \u001b[39m==\u001b[39m \u001b[39m1e9\u001b[39m):\n\u001b[0;32m     <a href='vscode-notebook-cell:/d%3A/Documents/atomas_bot/atomas_bot.ipynb#W1sZmlsZQ%3D%3D?line=26'>27</a>\u001b[0m             \u001b[39mprint\u001b[39m(field, min_element)\n\u001b[1;32m---> <a href='vscode-notebook-cell:/d%3A/Documents/atomas_bot/atomas_bot.ipynb#W1sZmlsZQ%3D%3D?line=27'>28</a>\u001b[0m         input_vector[\u001b[39m10\u001b[39;49m \u001b[39m*\u001b[39;49m i \u001b[39m+\u001b[39;49m \u001b[39mmin\u001b[39;49m(\u001b[39m8\u001b[39;49m, field[i] \u001b[39m-\u001b[39;49m min_element)] \u001b[39m=\u001b[39m \u001b[39m1\u001b[39m\n\u001b[0;32m     <a href='vscode-notebook-cell:/d%3A/Documents/atomas_bot/atomas_bot.ipynb#W1sZmlsZQ%3D%3D?line=28'>29</a>\u001b[0m \u001b[39mif\u001b[39;00m (\u001b[39mnext\u001b[39m \u001b[39m>\u001b[39m \u001b[39m0\u001b[39m):\n\u001b[0;32m     <a href='vscode-notebook-cell:/d%3A/Documents/atomas_bot/atomas_bot.ipynb#W1sZmlsZQ%3D%3D?line=29'>30</a>\u001b[0m     input_vector[\u001b[39m180\u001b[39m \u001b[39m+\u001b[39m \u001b[39mmin\u001b[39m(\u001b[39m8\u001b[39m, \u001b[39mnext\u001b[39m \u001b[39m-\u001b[39m min_element)] \u001b[39m=\u001b[39m \u001b[39m1\u001b[39m\n",
      "\u001b[1;31mIndexError\u001b[0m: only integers, slices (`:`), ellipsis (`...`), numpy.newaxis (`None`) and integer or boolean arrays are valid indices"
     ]
    }
   ],
   "source": [
    "from pandas import DataFrame\n",
    "import numpy as np\n",
    "\n",
    "\n",
    "\n",
    "def preprocess_data(field, plus, minus, next, op, decision):\n",
    "    # inputs:\n",
    "    #   18 atoms on the board, times 10 for index (first if lowest, adding one until 8 + lowest (and anything higher), and then -1 (Plus))\n",
    "    #   13 inputs for current atom (1-9 for element, 10 for -1, 11 for -2, 12 for -3, 13 for -4)\n",
    "    #   1 input for guaranteed plus next turn\n",
    "    #   1 input for guaranteed minus next turn\n",
    "    #   1 input for ability to change to plus atom (in minus)\n",
    "    # outputs:\n",
    "    #   18 for on-board decision\n",
    "    #   2 for op, to switch or not\n",
    "\n",
    "    input_vector = np.zeros(18 * 10 + 3 + 13)\n",
    "\n",
    "    min_element = (next if next > 0 else 1e9)\n",
    "    for a in field:\n",
    "        if (a > 0): min_element = min(min_element, a)\n",
    "    for i in range(len(field)):\n",
    "        if (field[i] == -1):\n",
    "            input_vector[10 * i + 9] = 1\n",
    "        else:\n",
    "            if (min_element == 1e9):\n",
    "                print(field, min_element)\n",
    "            input_vector[10 * i + min(8, field[i] - min_element)] = 1\n",
    "    if (next > 0):\n",
    "        input_vector[180 + min(8, next - min_element)] = 1\n",
    "    else:\n",
    "        input_vector[180 + 9 - next] = 1\n",
    "    input_vector[193], input_vector[194], input_vector[195] = plus, minus, op\n",
    "\n",
    "    output_vector = np.zeros(20)\n",
    "    if (op):\n",
    "        output_vector[18 + decision] = 1\n",
    "    else:\n",
    "        output_vector[decision] = 1\n",
    "    \n",
    "    return input_vector, output_vector\n",
    "    \n",
    "x = []\n",
    "y = []\n",
    "\n",
    "def read_data():\n",
    "    fin = open('decisions.txt', 'r')\n",
    "    while True:\n",
    "        # try:\n",
    "        if True:\n",
    "            field = list(map(int, fin.readline().split()))\n",
    "            plus, minus = map(int, fin.readline().split())\n",
    "            next = int(fin.readline())\n",
    "            op = int(fin.readline())\n",
    "            decision = int(fin.readline())\n",
    "            fin.readline()\n",
    "            input_vector, output_vector = preprocess_data(field, plus, minus, next, op, decision)\n",
    "            x.append(input_vector)\n",
    "            y.append(output_vector)\n",
    "        # except:\n",
    "        #     break\n",
    "\n",
    "read_data()\n",
    "print(len(x))\n"
   ]
  }
 ],
 "metadata": {
  "kernelspec": {
   "display_name": "Python 3 (ipykernel)",
   "language": "python",
   "name": "python3"
  },
  "language_info": {
   "codemirror_mode": {
    "name": "ipython",
    "version": 3
   },
   "file_extension": ".py",
   "mimetype": "text/x-python",
   "name": "python",
   "nbconvert_exporter": "python",
   "pygments_lexer": "ipython3",
   "version": "3.10.11"
  }
 },
 "nbformat": 4,
 "nbformat_minor": 5
}
